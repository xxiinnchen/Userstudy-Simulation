{
 "cells": [
  {
   "cell_type": "code",
   "execution_count": 1,
   "metadata": {},
   "outputs": [
    {
     "ename": "ModuleNotFoundError",
     "evalue": "No module named 'numpy'",
     "output_type": "error",
     "traceback": [
      "\u001b[1;31m---------------------------------------------------------------------------\u001b[0m",
      "\u001b[1;31mModuleNotFoundError\u001b[0m                       Traceback (most recent call last)",
      "\u001b[1;32m<ipython-input-1-f235ed88e2ca>\u001b[0m in \u001b[0;36m<module>\u001b[1;34m\u001b[0m\n\u001b[0;32m      1\u001b[0m \u001b[1;31m# Import libraries\u001b[0m\u001b[1;33m\u001b[0m\u001b[1;33m\u001b[0m\u001b[0m\n\u001b[1;32m----> 2\u001b[1;33m \u001b[1;32mimport\u001b[0m \u001b[0mnumpy\u001b[0m \u001b[1;32mas\u001b[0m \u001b[0mnp\u001b[0m\u001b[1;33m\u001b[0m\u001b[0m\n\u001b[0m\u001b[0;32m      3\u001b[0m \u001b[1;32mimport\u001b[0m \u001b[0mmatplotlib\u001b[0m\u001b[1;33m.\u001b[0m\u001b[0mpyplot\u001b[0m \u001b[1;32mas\u001b[0m \u001b[0mplt\u001b[0m\u001b[1;33m\u001b[0m\u001b[0m\n\u001b[0;32m      4\u001b[0m \u001b[1;32mimport\u001b[0m \u001b[0mnumpy\u001b[0m\u001b[1;33m.\u001b[0m\u001b[0mlinalg\u001b[0m \u001b[1;32mas\u001b[0m \u001b[0mLA\u001b[0m\u001b[1;33m\u001b[0m\u001b[0m\n\u001b[0;32m      5\u001b[0m \u001b[0mget_ipython\u001b[0m\u001b[1;33m(\u001b[0m\u001b[1;33m)\u001b[0m\u001b[1;33m.\u001b[0m\u001b[0mrun_line_magic\u001b[0m\u001b[1;33m(\u001b[0m\u001b[1;34m'matplotlib'\u001b[0m\u001b[1;33m,\u001b[0m \u001b[1;34m'inline'\u001b[0m\u001b[1;33m)\u001b[0m\u001b[1;33m\u001b[0m\u001b[0m\n",
      "\u001b[1;31mModuleNotFoundError\u001b[0m: No module named 'numpy'"
     ]
    }
   ],
   "source": [
    "# Import libraries\n",
    "import numpy as np\n",
    "import matplotlib.pyplot as plt\n",
    "import numpy.linalg as LA\n",
    "%matplotlib inline\n",
    "\n",
    "# Set custom colors\n",
    "colors = [['#cf4c34','#078752','#aaaaaa','#6333ed','#d6ca54','#0ca0ad','#2ea62a','#c96b0d','#d947bb'],\\\n",
    "          ['#4C1C13','#073824','#555555','#3712A0','#000000','#000000','#000000','#000000','#000000'],\\\n",
    "          ['#FF745A','#0BD480','#cccccc','#8D66FF','#EEEEEE','#EEEEEE','#EEEEEE','#EEEEEE','#EEEEEE']]\n",
    "\n",
    "# Set plot fonts\n",
    "plt.rcParams['font.sans-serif'] = \"Gill Sans MT\"\n",
    "plt.rcParams['font.family'] = \"sans-serif\"\n",
    "plt.rcParams['font.size'] = 12\n",
    "plt.rcParams['font.weight'] = 100"
   ]
  },
  {
   "cell_type": "code",
   "execution_count": 2,
   "metadata": {},
   "outputs": [],
   "source": [
    "launchpadBasePosition = np.array([26.51615, 17.572+1.5, 20.04752])\n",
    "launchpadOffA = np.array([-2.4,0.0,0.0])\n",
    "launchpadOffB = np.array([0.0,0.0,2.4])\n",
    "\n",
    "goalshelfBasePosition = np.array([26.57, 20.41, 1.93])\n",
    "goalshelfOffA = np.array([-2.26,0.0,0.0])\n",
    "goalshelfOffB = np.array([0.0, 1.70,0.0])\n",
    "\n",
    "def goalshelfPos(shelfIndexA,shelfIndexB):\n",
    "    return(goalshelfBasePosition + goalshelfOffA*shelfIndexA + goalshelfOffB*shelfIndexB )\n",
    "\n",
    "def launchpadPos(launchpadIndexA,launchpadIndexB):\n",
    "    return(launchpadBasePosition + launchpadOffA*launchpadIndexA + launchpadOffB*launchpadIndexB )"
   ]
  },
  {
   "cell_type": "code",
   "execution_count": 3,
   "metadata": {},
   "outputs": [],
   "source": [
    "DRONE_SPEED = 0.018*50 # Speed in units per second (instead of units per frame)\n",
    "# DRONE_SPEED = 0.018\n",
    "# DRONE_SPEED = 1.8\n",
    "TAKEOFF_HOVERING_TIME = 1.5/DRONE_SPEED\n",
    "\n",
    "class Flight:\n",
    "    def __init__(self,start_time,startpoint_indices,endpoint_indices):\n",
    "        self.speed = DRONE_SPEED\n",
    "        self.endpoint = goalshelfPos(startpoint_indices[0],startpoint_indices[1])\n",
    "        self.startpoint = launchpadPos(startpoint_indices[0],startpoint_indices[1])\n",
    "        self.start_time = start_time\n",
    "        self.followedBy = False\n",
    "        self.eventID = -1\n",
    "        \n",
    "        self.collidesWith = -1\n",
    "        self.collidesAt = -1\n",
    "        \n",
    "        self.endIndices = endpoint_indices\n",
    "        self.startIndices = startpoint_indices\n",
    "        \n",
    "        distance = self.endpoint-self.startpoint\n",
    "        #print(distance)\n",
    "        self.flight_vector = (distance/LA.norm(distance))*self.speed\n",
    "        # calculate the position the flight would be at at time zero\n",
    "        # rather than its unique start time\n",
    "        self.zeroPosition = self.startpoint - start_time*self.flight_vector\n",
    "        \n",
    "    def position(self,time):\n",
    "        flightposition = time*self.flight_vector + self.zeroPosition\n",
    "        return(flightposition)\n",
    "    \n",
    "    def closestDistanceTo(self,other):\n",
    "        # the difference between the two lines:\n",
    "        #     w_self(t) = a*t + b\n",
    "        #     w_other(t) = c*t + d\n",
    "        # (where a,b,c,d are vectors in 3-space, and t is the time parameter) will be :\n",
    "        #     w_diff(t) = w_self(t) - w_other(t) = (a-c)*t + (b-d)\n",
    "        # we want to find when this difference distance minimizes the two-norm:\n",
    "        #     min_t \\|w_diff(t) \\|^2 = w_diff^T * w_diff\n",
    "        # the critical point will be when the derivative of the objective is zero:\n",
    "        #     0 = (a-c)^T * w_diff(t) = (a-c)^T (a-c) * t + (a-c)^T (b-d)\n",
    "        # which solves for the time parameter t as:\n",
    "        #     t = -<a-c, b-d> / \\|a-c\\|^2\n",
    "        difference_flight_vector = self.flight_vector - other.flight_vector\n",
    "        difference_zeroPosition = self.zeroPosition - other.zeroPosition\n",
    "        differenceMagnitude = np.dot(difference_flight_vector,difference_flight_vector)\n",
    "        # if the two flights are parallel than all points are equally close\n",
    "        if(differenceMagnitude == 0):\n",
    "            closestTime = 0\n",
    "            # the difference in the flight vectors will be zero for parallel lines\n",
    "            # which would cause divide by zero issues in finding a unique closest time\n",
    "        else:\n",
    "            closestTime = -np.dot(difference_flight_vector,difference_zeroPosition) / differenceMagnitude\n",
    "        # Don't count approach times past the time limit\n",
    "        if(closestTime > 180):\n",
    "            closestTime = 180\n",
    "        return(self.position(closestTime) - other.position(closestTime), closestTime)\n",
    "    \n",
    "    def endTime(self):\n",
    "        distance = self.endpoint - self.startpoint\n",
    "        return(self.start_time + LA.norm(distance)/self.speed + TAKEOFF_HOVERING_TIME)\n",
    "    \n",
    "    def __repr__(self):\n",
    "        return repr((self.startpoint,self.endpoint))\n",
    "    "
   ]
  },
  {
   "cell_type": "code",
   "execution_count": 4,
   "metadata": {},
   "outputs": [],
   "source": [
    "COLLISION_RADIUS = 1.4"
   ]
  },
  {
   "cell_type": "code",
   "execution_count": 5,
   "metadata": {},
   "outputs": [],
   "source": [
    "def generateAcceptablePath(nextTakeoff,drones,collision_tally):\n",
    "    takingOffDrone = nextTakeoff.drone\n",
    "    otherDrones = [drone for drone in drones if drone!=takingOffDrone]\n",
    "    # Generate an approved flight\n",
    "    approval = False\n",
    "    path_collides = 0\n",
    "    approval_attempts = 0\n",
    "    while approval == False:\n",
    "        newFlight = Flight(nextTakeoff.time, [random.randint(0,9),random.randint(0,2)],[random.randint(0,9),random.randint(0,3)] )\n",
    "        newFlight.drone = takingOffDrone\n",
    "        approval = True\n",
    "        # Check for collision\n",
    "        path_collides = 0\n",
    "        for drone in otherDrones:\n",
    "            if(drone.flightplan):\n",
    "                approach, approachtime = drone.flightplan[-1].closestDistanceTo(newFlight)\n",
    "                #print(LA.norm(approach))\n",
    "                if(LA.norm(approach) < COLLISION_RADIUS):\n",
    "                    if(collision_tally < min(newFlight.endTime(),180)/10): # enforce that the number of collisions that have occured by the n-tieth second is less than n\n",
    "                        if(path_collides==0 and drone.flightplan[-1].collidesWith==-1): # enforce that each path never collides with more than one other path\n",
    "                            path_collides = 1\n",
    "                            newFlight.collidesWith = drone.flightplan[-1]\n",
    "                            newFlight.collidesAt = newFlight.position(approachtime)\n",
    "                            drone.flightplan[-1].collidesWith = newFlight\n",
    "                            drone.flightplan[-1].collidesAt = drone.flightplan[-1].position(approachtime)\n",
    "                        else:\n",
    "                            approval = False\n",
    "                    else:\n",
    "                        approval = False\n",
    "        approval_attempts += 1\n",
    "        assert(approval_attempts < 2000),\"Couldn't plan safely\"\n",
    "    return(newFlight,path_collides)"
   ]
  },
  {
   "cell_type": "code",
   "execution_count": 6,
   "metadata": {},
   "outputs": [],
   "source": [
    "class Drone:\n",
    "    def __init__(self,name,number):\n",
    "        self.flightplan = []\n",
    "        self.name = name\n",
    "        self.IDnumber = number\n",
    "        \n",
    "    def newTakeoff(self,flight):\n",
    "        self.flightplan.append(flight)\n",
    "        \n",
    "    def __repr__(self):\n",
    "        return repr((self.name))"
   ]
  },
  {
   "cell_type": "code",
   "execution_count": 7,
   "metadata": {},
   "outputs": [
    {
     "name": "stdout",
     "output_type": "stream",
     "text": [
      "done with 18 collisions\n"
     ]
    },
    {
     "data": {
      "text/plain": [
       "[(array([ 4.91615, 19.072  , 24.84752]), array([ 6.23, 23.81,  1.93])),\n",
       " (array([14.51615, 19.072  , 24.84752]), array([15.27, 23.81,  1.93])),\n",
       " (array([ 7.31615, 19.072  , 22.44752]), array([ 8.49, 22.11,  1.93])),\n",
       " (array([16.91615, 19.072  , 20.04752]), array([17.53, 20.41,  1.93])),\n",
       " (array([ 9.71615, 19.072  , 20.04752]), array([10.75, 20.41,  1.93])),\n",
       " (array([12.11615, 19.072  , 20.04752]), array([13.01, 20.41,  1.93])),\n",
       " (array([ 4.91615, 19.072  , 20.04752]), array([ 6.23, 20.41,  1.93])),\n",
       " (array([12.11615, 19.072  , 24.84752]), array([13.01, 23.81,  1.93]))]"
      ]
     },
     "execution_count": 7,
     "metadata": {},
     "output_type": "execute_result"
    }
   ],
   "source": [
    "import random\n",
    "NUM_DRONES = 10\n",
    "\n",
    "class Takeoff:\n",
    "    def __init__(self,time,drone):\n",
    "        self.time = time\n",
    "        self.drone = drone\n",
    "        \n",
    "    def __repr__(self):\n",
    "        return repr((self.time, self.drone))\n",
    "\n",
    "drones = []\n",
    "upcomingTakeoffs = []\n",
    "collision_tally = 0\n",
    "curEventID = 0\n",
    "\n",
    "for ii in range(NUM_DRONES):\n",
    "    newDrone = Drone(\"Drone #\"+str(ii),ii)\n",
    "    drones.append(newDrone)\n",
    "    launch = Takeoff(0.0+ii*10.0/NUM_DRONES,newDrone)\n",
    "    upcomingTakeoffs.append( launch )\n",
    "    #newFlight, path_collides = generateAcceptablePath(launch,drones,collision_tally)\n",
    "\n",
    "#print(\"initial takeoff created \"+str(collision_tally)+\" collisions\")\n",
    "\n",
    "# Pick out the first respawn takeoff\n",
    "upcomingTakeoffs = sorted(upcomingTakeoffs, key=lambda takeoff: takeoff.time)\n",
    "nextTakeoff = upcomingTakeoffs.pop(0)\n",
    "takeoffOrderedFlights = []\n",
    "\n",
    "while nextTakeoff.time < 180:\n",
    "    takingOffDrone = nextTakeoff.drone\n",
    "    newFlight, path_collides = generateAcceptablePath(nextTakeoff,drones,collision_tally)\n",
    "    collision_tally += path_collides\n",
    "    # Record in takeoff history\n",
    "    newFlight.eventID = curEventID\n",
    "    curEventID += 1\n",
    "    takeoffOrderedFlights.append(newFlight)\n",
    "    # Assign this approved flight to the drone\n",
    "    if(takingOffDrone.flightplan):\n",
    "        takingOffDrone.flightplan[-1].followedBy = newFlight\n",
    "    takingOffDrone.newTakeoff(newFlight)\n",
    "    # Queue up the following takeoff once this new flight terminates\n",
    "    upcomingTakeoffs.append(Takeoff(newFlight.endTime(),takingOffDrone))\n",
    "    # Sort the takeoffs to identify who is taking off next\n",
    "    upcomingTakeoffs = sorted(upcomingTakeoffs, key=lambda takeoff: takeoff.time)\n",
    "    nextTakeoff = upcomingTakeoffs.pop(0)\n",
    "    \n",
    "print(\"done with \"+str(collision_tally)+\" collisions\")\n",
    "# Show me the flight plan for a drone\n",
    "drones[0].flightplan"
   ]
  },
  {
   "cell_type": "code",
   "execution_count": 8,
   "metadata": {},
   "outputs": [],
   "source": [
    "import csv\n",
    "with open('flightplan.csv', 'w') as csvfile:\n",
    "    planwriter = csv.writer(csvfile, delimiter=',',\n",
    "                            quotechar='|', quoting=csv.QUOTE_MINIMAL)\n",
    "    planwriter.writerow(['eventID', 'droneID', 'startingLaunchpadIndexX', 'startingLaunchpadIndexY',\n",
    "                         'shelfIndexX', 'shelfIndexY', 'followedBy',\n",
    "                         'teleportToLaunchpadIndexX', 'teleportToLaunchpadIndexY', 'collidesWithNum', 'collidesAtPos'])\n",
    "    for flight in takeoffOrderedFlights:\n",
    "        collidesWithReport = \"\"\n",
    "        if(flight.collidesWith == -1):\n",
    "            collidesWithReport = [-2,-2]\n",
    "        else:\n",
    "            collidesWithReport = [flight.collidesWith.drone.IDnumber,flight.collidesAt]\n",
    "        if(flight.followedBy):\n",
    "            planwriter.writerow([flight.eventID, flight.drone.IDnumber] + flight.startIndices + flight.endIndices\n",
    "                                + [flight.followedBy.eventID] + flight.followedBy.startIndices\n",
    "                                + collidesWithReport)\n",
    "        else:\n",
    "            planwriter.writerow([flight.eventID, flight.drone.IDnumber] + flight.startIndices + flight.endIndices\n",
    "                                + [-1] + [-1,-1]\n",
    "                                + collidesWithReport)"
   ]
  },
  {
   "cell_type": "code",
   "execution_count": null,
   "metadata": {},
   "outputs": [],
   "source": []
  },
  {
   "cell_type": "code",
   "execution_count": null,
   "metadata": {},
   "outputs": [],
   "source": []
  },
  {
   "cell_type": "code",
   "execution_count": null,
   "metadata": {},
   "outputs": [],
   "source": []
  },
  {
   "cell_type": "code",
   "execution_count": null,
   "metadata": {},
   "outputs": [],
   "source": []
  },
  {
   "cell_type": "code",
   "execution_count": null,
   "metadata": {},
   "outputs": [],
   "source": []
  },
  {
   "cell_type": "code",
   "execution_count": 13,
   "metadata": {},
   "outputs": [
    {
     "name": "stdout",
     "output_type": "stream",
     "text": [
      "24.757130150754456\n"
     ]
    }
   ],
   "source": [
    "def goalshelfPos(shelfIndexA,shelfIndexB):\n",
    "    return(goalshelfBasePosition + goalshelfOffA*shelfIndexA + goalshelfOffB*shelfIndexB )\n",
    "\n",
    "def launchpadPos(launchpadIndexA,launchpadIndexB):\n",
    "    return(launchpadBasePosition + launchpadOffA*launchpadIndexA + launchpadOffB*launchpadIndexB )\n",
    "\n",
    "total_distances = 0.0\n",
    "total_arcs = 0.0\n",
    "for startX in range(0,9):\n",
    "    for startY in range(0,2):\n",
    "        for endX in range(0,9):\n",
    "            for endY in range(0,3):\n",
    "                total_arcs += 1.0\n",
    "                total_distances += LA.norm(goalshelfPos(startX,startY) - launchpadPos(endX,endY))\n",
    "\n",
    "average_trip_distance = total_distances/total_arcs\n",
    "average_trip_time = average_trip_distance/DRONE_SPEED\n",
    "print(average_trip_time)"
   ]
  },
  {
   "cell_type": "code",
   "execution_count": null,
   "metadata": {},
   "outputs": [],
   "source": []
  },
  {
   "cell_type": "code",
   "execution_count": null,
   "metadata": {},
   "outputs": [],
   "source": []
  }
 ],
 "metadata": {
  "kernelspec": {
   "display_name": "Python 3",
   "language": "python",
   "name": "python3"
  },
  "language_info": {
   "codemirror_mode": {
    "name": "ipython",
    "version": 3
   },
   "file_extension": ".py",
   "mimetype": "text/x-python",
   "name": "python",
   "nbconvert_exporter": "python",
   "pygments_lexer": "ipython3",
   "version": "3.6.2"
  }
 },
 "nbformat": 4,
 "nbformat_minor": 2
}
